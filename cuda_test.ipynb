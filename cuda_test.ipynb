{
 "cells": [
  {
   "cell_type": "code",
   "execution_count": 3,
   "metadata": {},
   "outputs": [
    {
     "name": "stdout",
     "output_type": "stream",
     "text": [
      "cuda\n"
     ]
    }
   ],
   "source": [
    "#Check if container is passing through + general imports \n",
    "import torch\n",
    "import numpy as np\n",
    "import pandas as pd\n",
    "import seaborn as sns\n",
    "import matplotlib.pyplot as plt\n",
    "device = torch.device(\"cuda\" if torch.cuda.is_available() else \"cpu\")\n",
    "print(device)"
   ]
  },
  {
   "cell_type": "code",
   "execution_count": 28,
   "metadata": {},
   "outputs": [],
   "source": [
    "#Make Databricks connection\n",
    "from databricks_connect import connect_explicit\n",
    "\n",
    "spark = connect_explicit()"
   ]
  },
  {
   "cell_type": "code",
   "execution_count": 51,
   "metadata": {},
   "outputs": [
    {
     "name": "stdout",
     "output_type": "stream",
     "text": [
      "+---------------+----------+-----------+-----------+-----------+----------+---------+-------------------+---------+----------------+----------------+----------+----------------+--------------+\n",
      "|ss_sold_date_sk|ss_item_sk|ss_store_sk|ss_promo_sk|ss_quantity|    d_date|d_holiday|d_following_holiday|d_weekend|       i_item_id|      s_store_id|p_promo_id|promo_start_date|promo_end_date|\n",
      "+---------------+----------+-----------+-----------+-----------+----------+---------+-------------------+---------+----------------+----------------+----------+----------------+--------------+\n",
      "|        2451181|     14386|          1|        251|         77|1999-01-02|        N|                  Y|        Y|AAAAAAAACDIDAAAA|AAAAAAAABAAAAAAA|      NULL|            NULL|          NULL|\n",
      "|        2451181|     11323|          1|          1|         84|1999-01-02|        N|                  Y|        Y|AAAAAAAALDMCAAAA|AAAAAAAABAAAAAAA|      NULL|            NULL|          NULL|\n",
      "|        2451181|     10141|          1|         44|         96|1999-01-02|        N|                  Y|        Y|AAAAAAAANJHCAAAA|AAAAAAAABAAAAAAA|      NULL|            NULL|          NULL|\n",
      "|        2451181|      8059|          1|         72|         51|1999-01-02|        N|                  Y|        Y|AAAAAAAALHPBAAAA|AAAAAAAABAAAAAAA|      NULL|            NULL|          NULL|\n",
      "|        2451181|      7508|          1|         36|         96|1999-01-02|        N|                  Y|        Y|AAAAAAAAEFNBAAAA|AAAAAAAABAAAAAAA|      NULL|            NULL|          NULL|\n",
      "|        2451181|     11696|          1|        242|         38|1999-01-02|        N|                  Y|        Y|AAAAAAAAALNCAAAA|AAAAAAAABAAAAAAA|      NULL|            NULL|          NULL|\n",
      "|        2451181|      2545|          1|        260|          7|1999-01-02|        N|                  Y|        Y|AAAAAAAABPJAAAAA|AAAAAAAABAAAAAAA|      NULL|            NULL|          NULL|\n",
      "|        2451181|      5708|          1|          2|         56|1999-01-02|        N|                  Y|        Y|AAAAAAAAMEGBAAAA|AAAAAAAABAAAAAAA|      NULL|            NULL|          NULL|\n",
      "|        2451181|      7388|          1|        205|          7|1999-01-02|        N|                  Y|        Y|AAAAAAAAMNMBAAAA|AAAAAAAABAAAAAAA|      NULL|            NULL|          NULL|\n",
      "|        2451181|      5464|          1|        216|         69|1999-01-02|        N|                  Y|        Y|AAAAAAAAIFFBAAAA|AAAAAAAABAAAAAAA|      NULL|            NULL|          NULL|\n",
      "|        2451181|      8512|          1|        186|         47|1999-01-02|        N|                  Y|        Y|AAAAAAAAAEBCAAAA|AAAAAAAABAAAAAAA|      NULL|            NULL|          NULL|\n",
      "|        2451181|       838|          1|         20|         82|1999-01-02|        N|                  Y|        Y|AAAAAAAAGEDAAAAA|AAAAAAAABAAAAAAA|      NULL|            NULL|          NULL|\n",
      "|        2451181|     10832|          1|        191|         64|1999-01-02|        N|                  Y|        Y|AAAAAAAAAFKCAAAA|AAAAAAAABAAAAAAA|      NULL|            NULL|          NULL|\n",
      "|        2451181|      8972|          1|        244|         35|1999-01-02|        N|                  Y|        Y|AAAAAAAAMADCAAAA|AAAAAAAABAAAAAAA|      NULL|            NULL|          NULL|\n",
      "|        2451181|      8774|          1|        181|         73|1999-01-02|        N|                  Y|        Y|AAAAAAAAGECCAAAA|AAAAAAAABAAAAAAA|      NULL|            NULL|          NULL|\n",
      "|        2451181|     10496|          1|         49|         98|1999-01-02|        N|                  Y|        Y|AAAAAAAAAAJCAAAA|AAAAAAAABAAAAAAA|      NULL|            NULL|          NULL|\n",
      "|        2451181|      8743|          1|        156|         85|1999-01-02|        N|                  Y|        Y|AAAAAAAAHCCCAAAA|AAAAAAAABAAAAAAA|      NULL|            NULL|          NULL|\n",
      "|        2451181|     11215|          1|         40|        100|1999-01-02|        N|                  Y|        Y|AAAAAAAAPMLCAAAA|AAAAAAAABAAAAAAA|      NULL|            NULL|          NULL|\n",
      "|        2451181|      2083|          1|        210|         61|1999-01-02|        N|                  Y|        Y|AAAAAAAADCIAAAAA|AAAAAAAABAAAAAAA|      NULL|            NULL|          NULL|\n",
      "|        2451181|     15322|          1|        168|         74|1999-01-02|        N|                  Y|        Y|AAAAAAAAKNLDAAAA|AAAAAAAABAAAAAAA|      NULL|            NULL|          NULL|\n",
      "+---------------+----------+-----------+-----------+-----------+----------+---------+-------------------+---------+----------------+----------------+----------+----------------+--------------+\n",
      "only showing top 20 rows\n"
     ]
    }
   ],
   "source": [
    "# Cleaning and joining data for demand forecasts\n",
    "data = spark.sql(\"\"\"\n",
    "    SELECT \n",
    "        ss_sold_date_sk,\n",
    "        ss_item_sk,\n",
    "        ss_store_sk,\n",
    "        ss_promo_sk,\n",
    "        ss_quantity,\n",
    "        d_date,\n",
    "        d_holiday,\n",
    "        d_following_holiday,\n",
    "        d_weekend,\n",
    "        i_item_id,\n",
    "        s_store_id\n",
    "        \n",
    "    FROM samples.tpcds_sf1.store_sales AS ss\n",
    "    INNER JOIN samples.tpcds_sf1.date_dim AS dd\n",
    "    ON ss.ss_sold_date_sk = dd.d_date_sk\n",
    "    INNER JOIN samples.tpcds_sf1.item AS i\n",
    "    ON ss.ss_item_sk = i.i_item_sk\n",
    "    INNER JOIN samples.tpcds_sf1.store AS s\n",
    "    ON ss.ss_store_sk = s.s_store_sk\n",
    "    \"\"\")\n",
    "\n",
    "# Promotion table with actual dates\n",
    "promo = spark.sql(\"\"\"\n",
    "    SELECT\n",
    "        p.p_item_sk, \n",
    "        p.p_promo_sk,\n",
    "        p.p_promo_id,\n",
    "        dd_start.d_date as promo_start_date,\n",
    "        dd_end.d_date as promo_end_date\n",
    "\n",
    "    FROM samples.tpcds_sf1.promotion AS p\n",
    "    LEFT JOIN samples.tpcds_sf1.date_dim AS dd_start\n",
    "    ON p.p_start_date_sk = dd_start.d_date_sk\n",
    "    LEFT JOIN samples.tpcds_sf1.date_dim AS dd_end\n",
    "    ON p.p_end_date_sk = dd_end.d_date_sk\n",
    "    \"\"\")\n",
    "\n",
    "sales_promo = data.join(\n",
    "    promo,\n",
    "    (data.ss_item_sk == promo.p_item_sk) & \n",
    "    (data.d_date >= promo.promo_start_date) & \n",
    "    (data.d_date <= promo.promo_end_date),\n",
    "    \"left\"\n",
    ").select(\n",
    "    data[\"*\"],\n",
    "    promo.p_promo_id,\n",
    "    promo.promo_start_date,\n",
    "    promo.promo_end_date\n",
    ")\n",
    "\n",
    "sales_promo.show()\n"
   ]
  },
  {
   "cell_type": "code",
   "execution_count": 50,
   "metadata": {},
   "outputs": [
    {
     "name": "stdout",
     "output_type": "stream",
     "text": [
      "+---------------+----------+-----------+-----------+-----------+----------+---------+-------------------+---------+----------------+----------------+----------+----------------+--------------+\n",
      "|ss_sold_date_sk|ss_item_sk|ss_store_sk|ss_promo_sk|ss_quantity|    d_date|d_holiday|d_following_holiday|d_weekend|       i_item_id|      s_store_id|p_promo_id|promo_start_date|promo_end_date|\n",
      "+---------------+----------+-----------+-----------+-----------+----------+---------+-------------------+---------+----------------+----------------+----------+----------------+--------------+\n",
      "|        2451181|     14386|          1|        251|         77|1999-01-02|        N|                  Y|        Y|AAAAAAAACDIDAAAA|AAAAAAAABAAAAAAA|      NULL|            NULL|          NULL|\n",
      "|        2451181|     11323|          1|          1|         84|1999-01-02|        N|                  Y|        Y|AAAAAAAALDMCAAAA|AAAAAAAABAAAAAAA|      NULL|            NULL|          NULL|\n",
      "|        2451181|     10141|          1|         44|         96|1999-01-02|        N|                  Y|        Y|AAAAAAAANJHCAAAA|AAAAAAAABAAAAAAA|      NULL|            NULL|          NULL|\n",
      "|        2451181|      8059|          1|         72|         51|1999-01-02|        N|                  Y|        Y|AAAAAAAALHPBAAAA|AAAAAAAABAAAAAAA|      NULL|            NULL|          NULL|\n",
      "|        2451181|      7508|          1|         36|         96|1999-01-02|        N|                  Y|        Y|AAAAAAAAEFNBAAAA|AAAAAAAABAAAAAAA|      NULL|            NULL|          NULL|\n",
      "|        2451181|     11696|          1|        242|         38|1999-01-02|        N|                  Y|        Y|AAAAAAAAALNCAAAA|AAAAAAAABAAAAAAA|      NULL|            NULL|          NULL|\n",
      "|        2451181|      2545|          1|        260|          7|1999-01-02|        N|                  Y|        Y|AAAAAAAABPJAAAAA|AAAAAAAABAAAAAAA|      NULL|            NULL|          NULL|\n",
      "|        2451181|      5708|          1|          2|         56|1999-01-02|        N|                  Y|        Y|AAAAAAAAMEGBAAAA|AAAAAAAABAAAAAAA|      NULL|            NULL|          NULL|\n",
      "|        2451181|      7388|          1|        205|          7|1999-01-02|        N|                  Y|        Y|AAAAAAAAMNMBAAAA|AAAAAAAABAAAAAAA|      NULL|            NULL|          NULL|\n",
      "|        2451181|      5464|          1|        216|         69|1999-01-02|        N|                  Y|        Y|AAAAAAAAIFFBAAAA|AAAAAAAABAAAAAAA|      NULL|            NULL|          NULL|\n",
      "|        2451181|      8512|          1|        186|         47|1999-01-02|        N|                  Y|        Y|AAAAAAAAAEBCAAAA|AAAAAAAABAAAAAAA|      NULL|            NULL|          NULL|\n",
      "|        2451181|       838|          1|         20|         82|1999-01-02|        N|                  Y|        Y|AAAAAAAAGEDAAAAA|AAAAAAAABAAAAAAA|      NULL|            NULL|          NULL|\n",
      "|        2451181|     10832|          1|        191|         64|1999-01-02|        N|                  Y|        Y|AAAAAAAAAFKCAAAA|AAAAAAAABAAAAAAA|      NULL|            NULL|          NULL|\n",
      "|        2451181|      8972|          1|        244|         35|1999-01-02|        N|                  Y|        Y|AAAAAAAAMADCAAAA|AAAAAAAABAAAAAAA|      NULL|            NULL|          NULL|\n",
      "|        2451181|      8774|          1|        181|         73|1999-01-02|        N|                  Y|        Y|AAAAAAAAGECCAAAA|AAAAAAAABAAAAAAA|      NULL|            NULL|          NULL|\n",
      "|        2451181|     10496|          1|         49|         98|1999-01-02|        N|                  Y|        Y|AAAAAAAAAAJCAAAA|AAAAAAAABAAAAAAA|      NULL|            NULL|          NULL|\n",
      "|        2451181|      8743|          1|        156|         85|1999-01-02|        N|                  Y|        Y|AAAAAAAAHCCCAAAA|AAAAAAAABAAAAAAA|      NULL|            NULL|          NULL|\n",
      "|        2451181|     11215|          1|         40|        100|1999-01-02|        N|                  Y|        Y|AAAAAAAAPMLCAAAA|AAAAAAAABAAAAAAA|      NULL|            NULL|          NULL|\n",
      "|        2451181|      2083|          1|        210|         61|1999-01-02|        N|                  Y|        Y|AAAAAAAADCIAAAAA|AAAAAAAABAAAAAAA|      NULL|            NULL|          NULL|\n",
      "|        2451181|     15322|          1|        168|         74|1999-01-02|        N|                  Y|        Y|AAAAAAAAKNLDAAAA|AAAAAAAABAAAAAAA|      NULL|            NULL|          NULL|\n",
      "+---------------+----------+-----------+-----------+-----------+----------+---------+-------------------+---------+----------------+----------------+----------+----------------+--------------+\n",
      "only showing top 20 rows\n"
     ]
    }
   ],
   "source": [
    "sales_promo = data.join(\n",
    "    promo,\n",
    "    (data.ss_item_sk == promo.p_item_sk) & \n",
    "    (data.d_date >= promo.promo_start_date) & \n",
    "    (data.d_date <= promo.promo_end_date),\n",
    "    \"left\"\n",
    ").select(\n",
    "    data[\"*\"],\n",
    "    promo.p_promo_id,\n",
    "    promo.promo_start_date,\n",
    "    promo.promo_end_date\n",
    ")\n",
    "\n",
    "sales_promo.show()"
   ]
  }
 ],
 "metadata": {
  "kernelspec": {
   "display_name": "dev-container-template-py3.12",
   "language": "python",
   "name": "python3"
  },
  "language_info": {
   "codemirror_mode": {
    "name": "ipython",
    "version": 3
   },
   "file_extension": ".py",
   "mimetype": "text/x-python",
   "name": "python",
   "nbconvert_exporter": "python",
   "pygments_lexer": "ipython3",
   "version": "3.12.3"
  }
 },
 "nbformat": 4,
 "nbformat_minor": 2
}
