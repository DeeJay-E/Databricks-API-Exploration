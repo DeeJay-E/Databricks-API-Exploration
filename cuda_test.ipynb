{
 "cells": [
  {
   "cell_type": "code",
   "execution_count": 1,
   "metadata": {},
   "outputs": [
    {
     "data": {
      "text/plain": [
       "True"
      ]
     },
     "execution_count": 1,
     "metadata": {},
     "output_type": "execute_result"
    }
   ],
   "source": [
    "import torch\n",
    "torch.cuda.is_available()"
   ]
  },
  {
   "cell_type": "code",
   "execution_count": 15,
   "metadata": {},
   "outputs": [],
   "source": [
    "#Make Connection\n",
    "from databricks.connect import DatabricksSession\n",
    "import os\n",
    "token = open(\"secrets/token\").read()\n",
    "URL = open(\"secrets/URL\").read()\n",
    "#Explicit configuration\n",
    "def connect_explicit():\n",
    "    \"\"\"Connect with explicit configuration\"\"\"\n",
    "    spark = (DatabricksSession.builder\n",
    "             .host(URL)\n",
    "             .token(token)\n",
    "             .serverless(True)\n",
    "             .getOrCreate())\n",
    "    return spark\n",
    "\n",
    "spark = connect_explicit()"
   ]
  },
  {
   "cell_type": "code",
   "execution_count": 16,
   "metadata": {},
   "outputs": [
    {
     "data": {
      "text/plain": [
       "DataFrame[transactionID: bigint, customerID: bigint, franchiseID: bigint, dateTime: timestamp, product: string, quantity: bigint, unitPrice: bigint, totalPrice: bigint, paymentMethod: string, cardNumber: bigint]"
      ]
     },
     "metadata": {},
     "output_type": "display_data"
    },
    {
     "data": {
      "text/html": [
       "<div>\n",
       "<style scoped>\n",
       "    .dataframe tbody tr th:only-of-type {\n",
       "        vertical-align: middle;\n",
       "    }\n",
       "\n",
       "    .dataframe tbody tr th {\n",
       "        vertical-align: top;\n",
       "    }\n",
       "\n",
       "    .dataframe thead th {\n",
       "        text-align: right;\n",
       "    }\n",
       "</style>\n",
       "<table border=\"1\" class=\"dataframe\">\n",
       "  <thead>\n",
       "    <tr style=\"text-align: right;\">\n",
       "      <th></th>\n",
       "      <th>transactionID</th>\n",
       "      <th>customerID</th>\n",
       "      <th>franchiseID</th>\n",
       "      <th>dateTime</th>\n",
       "      <th>product</th>\n",
       "      <th>quantity</th>\n",
       "      <th>unitPrice</th>\n",
       "      <th>totalPrice</th>\n",
       "      <th>paymentMethod</th>\n",
       "      <th>cardNumber</th>\n",
       "    </tr>\n",
       "  </thead>\n",
       "  <tbody>\n",
       "    <tr>\n",
       "      <th>0</th>\n",
       "      <td>2002961</td>\n",
       "      <td>1000253</td>\n",
       "      <td>3000047</td>\n",
       "      <td>2024-05-14 12:17:01.495952</td>\n",
       "      <td>Golden Gate Ginger</td>\n",
       "      <td>8</td>\n",
       "      <td>3</td>\n",
       "      <td>24</td>\n",
       "      <td>amex</td>\n",
       "      <td>378154478982993</td>\n",
       "    </tr>\n",
       "    <tr>\n",
       "      <th>1</th>\n",
       "      <td>2003007</td>\n",
       "      <td>1000226</td>\n",
       "      <td>3000047</td>\n",
       "      <td>2024-05-10 23:10:10.239954</td>\n",
       "      <td>Austin Almond Biscotti</td>\n",
       "      <td>36</td>\n",
       "      <td>3</td>\n",
       "      <td>108</td>\n",
       "      <td>mastercard</td>\n",
       "      <td>2244626981238094</td>\n",
       "    </tr>\n",
       "    <tr>\n",
       "      <th>2</th>\n",
       "      <td>2003017</td>\n",
       "      <td>1000108</td>\n",
       "      <td>3000047</td>\n",
       "      <td>2024-05-16 16:34:10.613720</td>\n",
       "      <td>Austin Almond Biscotti</td>\n",
       "      <td>40</td>\n",
       "      <td>3</td>\n",
       "      <td>120</td>\n",
       "      <td>mastercard</td>\n",
       "      <td>2490570234487424</td>\n",
       "    </tr>\n",
       "    <tr>\n",
       "      <th>3</th>\n",
       "      <td>2003068</td>\n",
       "      <td>1000173</td>\n",
       "      <td>3000047</td>\n",
       "      <td>2024-05-02 04:31:51.612094</td>\n",
       "      <td>Pearly Pies</td>\n",
       "      <td>28</td>\n",
       "      <td>3</td>\n",
       "      <td>84</td>\n",
       "      <td>amex</td>\n",
       "      <td>343808569426192</td>\n",
       "    </tr>\n",
       "    <tr>\n",
       "      <th>4</th>\n",
       "      <td>2003103</td>\n",
       "      <td>1000075</td>\n",
       "      <td>3000047</td>\n",
       "      <td>2024-05-04 23:44:26.902224</td>\n",
       "      <td>Pearly Pies</td>\n",
       "      <td>28</td>\n",
       "      <td>3</td>\n",
       "      <td>84</td>\n",
       "      <td>visa</td>\n",
       "      <td>4377080942201798</td>\n",
       "    </tr>\n",
       "  </tbody>\n",
       "</table>\n",
       "</div>"
      ],
      "text/plain": [
       "   transactionID  customerID  franchiseID                   dateTime  \\\n",
       "0        2002961     1000253      3000047 2024-05-14 12:17:01.495952   \n",
       "1        2003007     1000226      3000047 2024-05-10 23:10:10.239954   \n",
       "2        2003017     1000108      3000047 2024-05-16 16:34:10.613720   \n",
       "3        2003068     1000173      3000047 2024-05-02 04:31:51.612094   \n",
       "4        2003103     1000075      3000047 2024-05-04 23:44:26.902224   \n",
       "\n",
       "                  product  quantity  unitPrice  totalPrice paymentMethod  \\\n",
       "0      Golden Gate Ginger         8          3          24          amex   \n",
       "1  Austin Almond Biscotti        36          3         108    mastercard   \n",
       "2  Austin Almond Biscotti        40          3         120    mastercard   \n",
       "3             Pearly Pies        28          3          84          amex   \n",
       "4             Pearly Pies        28          3          84          visa   \n",
       "\n",
       "         cardNumber  \n",
       "0   378154478982993  \n",
       "1  2244626981238094  \n",
       "2  2490570234487424  \n",
       "3   343808569426192  \n",
       "4  4377080942201798  "
      ]
     },
     "execution_count": 16,
     "metadata": {},
     "output_type": "execute_result"
    }
   ],
   "source": [
    "import numpy as np\n",
    "import pandas as pd\n",
    "import matplotlib.pyplot as plt\n",
    "\n",
    "data = spark.read.table(\"samples.bakehouse.sales_transactions\")\n",
    "display(data)\n",
    "data = data.toPandas()\n",
    "data.head()"
   ]
  },
  {
   "cell_type": "code",
   "execution_count": 6,
   "metadata": {},
   "outputs": [
    {
     "data": {
      "text/plain": [
       "<Axes: xlabel='Product', ylabel='Total Price'>"
      ]
     },
     "execution_count": 6,
     "metadata": {},
     "output_type": "execute_result"
    },
    {
     "data": {
      "image/png": "[encoded data removed]",
      "text/plain": [
       "<Figure size 640x480 with 1 Axes>"
      ]
     },
     "metadata": {},
     "output_type": "display_data"
    }
   ],
   "source": [
    "data_grouped = data[[\"product\", \"totalPrice\"]].groupby(\"product\").sum()\n",
    "data_grouped.head()\n",
    "data_grouped.plot.bar(xlabel = \"Product\", ylabel = \"Total Price\")"
   ]
  },
  {
   "cell_type": "code",
   "execution_count": 8,
   "metadata": {},
   "outputs": [
    {
     "name": "stdout",
     "output_type": "stream",
     "text": [
      "tensor([ 8, 36, 40,  ...,  4,  8,  8], device='cuda:0')\n"
     ]
    }
   ],
   "source": [
    "device = torch.device(\"cuda\" if torch.cuda.is_available() else \"cpu\")\n",
    "qty = np.array(data[\"quantity\"])\n",
    "qty_tensor = torch.tensor(qty).to(device)\n",
    "print(qty_tensor)"
   ]
  }
 ],
 "metadata": {
  "kernelspec": {
   "display_name": "dev-container-template-py3.12",
   "language": "python",
   "name": "python3"
  },
  "language_info": {
   "codemirror_mode": {
    "name": "ipython",
    "version": 3
   },
   "file_extension": ".py",
   "mimetype": "text/x-python",
   "name": "python",
   "nbconvert_exporter": "python",
   "pygments_lexer": "ipython3",
   "version": "3.12.3"
  }
 },
 "nbformat": 4,
 "nbformat_minor": 2
}
