{
 "cells": [
  {
   "cell_type": "code",
   "execution_count": 3,
   "metadata": {},
   "outputs": [
    {
     "name": "stdout",
     "output_type": "stream",
     "text": [
      "cuda\n"
     ]
    }
   ],
   "source": [
    "#Check if container is passing through + general imports \n",
    "import torch\n",
    "import numpy as np\n",
    "import pandas as pd\n",
    "import seaborn as sns\n",
    "import matplotlib.pyplot as plt\n",
    "device = torch.device(\"cuda\" if torch.cuda.is_available() else \"cpu\")\n",
    "print(device)"
   ]
  },
  {
   "cell_type": "code",
   "execution_count": 14,
   "metadata": {},
   "outputs": [],
   "source": [
    "#Make Databricks connection\n",
    "from databricks_connect import connect_explicit\n",
    "\n",
    "spark = connect_explicit()"
   ]
  },
  {
   "cell_type": "code",
   "execution_count": 18,
   "metadata": {},
   "outputs": [
    {
     "name": "stdout",
     "output_type": "stream",
     "text": [
      "+---------------+----------+-----------+-----------+-----------+----------+---------+-------------------+---------+\n",
      "|ss_sold_date_sk|ss_item_sk|ss_store_sk|ss_promo_sk|ss_quantity|    d_date|d_holiday|d_following_holiday|d_weekend|\n",
      "+---------------+----------+-----------+-----------+-----------+----------+---------+-------------------+---------+\n",
      "|        2451181|     14386|          1|        251|         77|1999-01-02|        N|                  Y|        Y|\n",
      "|        2451181|     11323|          1|          1|         84|1999-01-02|        N|                  Y|        Y|\n",
      "|        2451181|     10141|          1|         44|         96|1999-01-02|        N|                  Y|        Y|\n",
      "|        2451181|      8059|          1|         72|         51|1999-01-02|        N|                  Y|        Y|\n",
      "|        2451181|      7508|          1|         36|         96|1999-01-02|        N|                  Y|        Y|\n",
      "|        2451181|     11696|          1|        242|         38|1999-01-02|        N|                  Y|        Y|\n",
      "|        2451181|      2545|          1|        260|          7|1999-01-02|        N|                  Y|        Y|\n",
      "|        2451181|      5708|          1|          2|         56|1999-01-02|        N|                  Y|        Y|\n",
      "|        2451181|      9937|       NULL|       NULL|       NULL|1999-01-02|        N|                  Y|        Y|\n",
      "|        2451181|      7388|          1|        205|          7|1999-01-02|        N|                  Y|        Y|\n",
      "|        2451181|      5464|          1|        216|         69|1999-01-02|        N|                  Y|        Y|\n",
      "|        2451181|      8512|          1|        186|         47|1999-01-02|        N|                  Y|        Y|\n",
      "|        2451181|       838|          1|         20|         82|1999-01-02|        N|                  Y|        Y|\n",
      "|        2451181|     10832|          1|        191|         64|1999-01-02|        N|                  Y|        Y|\n",
      "|        2451181|      8972|          1|        244|         35|1999-01-02|        N|                  Y|        Y|\n",
      "|        2451181|      8774|          1|        181|         73|1999-01-02|        N|                  Y|        Y|\n",
      "|        2451181|     10496|          1|         49|         98|1999-01-02|        N|                  Y|        Y|\n",
      "|        2451181|      8743|          1|        156|         85|1999-01-02|        N|                  Y|        Y|\n",
      "|        2451181|     11215|          1|         40|        100|1999-01-02|        N|                  Y|        Y|\n",
      "|        2451181|      2083|          1|        210|         61|1999-01-02|        N|                  Y|        Y|\n",
      "+---------------+----------+-----------+-----------+-----------+----------+---------+-------------------+---------+\n",
      "only showing top 20 rows\n"
     ]
    },
    {
     "data": {
      "text/plain": [
       "DataFrame[summary: string, ss_sold_date_sk: string, ss_item_sk: string, ss_store_sk: string, ss_promo_sk: string, ss_quantity: string, d_holiday: string, d_following_holiday: string, d_weekend: string]"
      ]
     },
     "execution_count": 18,
     "metadata": {},
     "output_type": "execute_result"
    }
   ],
   "source": [
    "# Cleaning and joining data for demand forecasts\n",
    "data = spark.sql(\"SELECT \" \\\n",
    "        \"ss_sold_date_sk, \" \\\n",
    "        \"ss_item_sk, \" \\\n",
    "        \"ss_store_sk, \" \\\n",
    "        \"ss_promo_sk, \" \\\n",
    "        \"ss_quantity, \" \\\n",
    "        \"d_date, \" \\\n",
    "        \"d_holiday, \" \\\n",
    "        \"d_following_holiday, \" \\\n",
    "        \"d_weekend \" \\\n",
    "        \"FROM samples.tpcds_sf1.store_sales AS ss \" \\\n",
    "        \"INNER JOIN samples.tpcds_sf1.date_dim AS dd \" \\\n",
    "        \"ON ss.ss_sold_date_sk=dd.d_date_sk\")\n",
    "        \n",
    "data.show()\n",
    "data.describe()"
   ]
  }
 ],
 "metadata": {
  "kernelspec": {
   "display_name": "dev-container-template-py3.12",
   "language": "python",
   "name": "python3"
  },
  "language_info": {
   "codemirror_mode": {
    "name": "ipython",
    "version": 3
   },
   "file_extension": ".py",
   "mimetype": "text/x-python",
   "name": "python",
   "nbconvert_exporter": "python",
   "pygments_lexer": "ipython3",
   "version": "3.12.3"
  }
 },
 "nbformat": 4,
 "nbformat_minor": 2
}
